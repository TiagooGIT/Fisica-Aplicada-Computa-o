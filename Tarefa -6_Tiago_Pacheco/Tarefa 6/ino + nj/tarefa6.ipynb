{
 "cells": [
  {
   "cell_type": "markdown",
   "metadata": {},
   "source": [
    "# Instalação e teste do *pyserial* com o *Arduino*\n",
    "\n",
    "### Física Aplicada à Computação 2021-22\n",
    "#### Nuno Pereira | nuno.pereira@ipbeja.pt | Departamento de Matemática e Ciências Físicas\n",
    "(v5.0) CC-BY-SA 4.0"
   ]
  },
  {
   "cell_type": "markdown",
   "metadata": {},
   "source": [
    "### Instalação do *pyserial* para acesso nos *notebooks* do *jupyter*"
   ]
  },
  {
   "cell_type": "markdown",
   "metadata": {},
   "source": [
    "**Descrição:** lê os dados enviados pelo Arduino até receber *'end'*; pede ao utilizador confirmação para nova leitura ou interrupção da conexão; apresenta contagem do número de leituras. O Arduino deve estar a executar o *sketch* seriArduino_v2.ino (incluído aqui). Neste *sketch* geramos um sinal sinusoidal e uma *time Stamp* associada ao valor enviado."
   ]
  },
  {
   "cell_type": "code",
   "execution_count": 1,
   "metadata": {},
   "outputs": [],
   "source": [
    "# Install a conda package in the current Jupyter kernel\n",
    "#import sys\n",
    "#!conda install --yes --prefix {sys.prefix} pyserial"
   ]
  },
  {
   "cell_type": "markdown",
   "metadata": {},
   "source": [
    "### Verificação de disponibilidade de porto COM"
   ]
  },
  {
   "cell_type": "code",
   "execution_count": 2,
   "metadata": {},
   "outputs": [
    {
     "name": "stdout",
     "output_type": "stream",
     "text": [
      "COM3                \n"
     ]
    },
    {
     "name": "stderr",
     "output_type": "stream",
     "text": [
      "1 ports found\n"
     ]
    }
   ],
   "source": [
    "! python -m serial.tools.list_ports"
   ]
  },
  {
   "cell_type": "markdown",
   "metadata": {},
   "source": [
    "### Teste com Arduino"
   ]
  },
  {
   "cell_type": "markdown",
   "metadata": {},
   "source": [
    "#### Código do Arduino\n",
    "Criar um *sketch* com o seguinte código:"
   ]
  },
  {
   "cell_type": "markdown",
   "metadata": {},
   "source": [
    "```c\n",
    "/* \n",
    " * seriArduino\n",
    " * \n",
    " * Versão: 2.0\n",
    " * \n",
    " * Fisica Aplicada a Computacao - Engenharia Informatica\n",
    " * Departamento de Matematica e Ciencias Fisicas\n",
    " * \n",
    " * Ano lectivo 2021-22\n",
    " * \n",
    " * Nuno Pereira | nuno.pereira@ipbeja.pt\n",
    " * \n",
    " * Hardware: Arduino nano 33 BLE SENSE\n",
    " * \n",
    " * Descricao: comunica com PC via Serial Port\n",
    " *            dados lidos pelo pySeriArduino_v5\n",
    " * \n",
    " * Recursos: -\n",
    " * \n",
    " * CC-BY-SA 4.0\n",
    " */\n",
    "#include <Arduino_HTS221.h>\n",
    "//#define PLOTTER\n",
    "// prototypes\n",
    "void writeData(void);\n",
    "\n",
    "// global variables\n",
    "int long to;\n",
    "int long dt = 100; // sampling interval (ms)\n",
    "int n_samples = 100;\n",
    "float pi = acos(-1.);\n",
    "float T = .5; // period (s)\n",
    "float w = 2.*pi/T; // angular velocity (rad/s)\n",
    "float A = 2.; // amplitude\n",
    "char strBuffer[30];\n",
    "\n",
    "// initialization\n",
    "void setup() {\n",
    "  Serial.begin(115200);\n",
    "  while(!Serial);\n",
    "}\n",
    "\n",
    "// main loop\n",
    "void loop() {\n",
    "  writeData();\n",
    "  Serial.println(\"end\");\n",
    "}\n",
    "\n",
    "// functions\n",
    "void writeData()\n",
    "{\n",
    "  to = millis();\n",
    "  for (byte k = 0; k < n_samples; k++)\n",
    "  {\n",
    "    delay(10);\n",
    "    int long t = millis() - to;\n",
    "    float x = HTS.readTemperature();\n",
    "#ifdef PLOTTER\n",
    "    Serial.println(x);\n",
    "#else    \n",
    "    sprintf(strBuffer,\"%d,%.6f\", t, x);\n",
    "    Serial.println(strBuffer);\n",
    "#endif\n",
    "  }\n",
    "}\n",
    "```"
   ]
  },
  {
   "cell_type": "markdown",
   "metadata": {},
   "source": [
    "Depois de fazer o *upload* do *sketch* para o Arduino e voltar a seleccionar o *serial port*, correr o seguinte código:"
   ]
  },
  {
   "cell_type": "code",
   "execution_count": 3,
   "metadata": {},
   "outputs": [
    {
     "name": "stdout",
     "output_type": "stream",
     "text": [
      "Informação sobre a conexão:\n",
      "\n",
      "Connected to serial portCOM3\n",
      "Port configuration:\n",
      "\tBaudrate: 115200\n",
      "\tParity Bits: N\n",
      "\tByte size: 8\n",
      "\tStop bits: 1:\n",
      "\tTimeout: 2000\n",
      "Is serial port open? True\n"
     ]
    }
   ],
   "source": [
    "import serial\n",
    "\n",
    "ser = serial.Serial()\n",
    "ser.baudrate = 115200\n",
    "ser.port = 'COM3'\n",
    "ser.timeout = 2000\n",
    "\n",
    "# a linha seguinte mostra a informação sobre a conexão sem formatação\n",
    "#print(ser)\n",
    "\n",
    "print('Informação sobre a conexão:\\n')\n",
    "print(\"Connected to serial port\" + ser.portstr)\n",
    "print('Port configuration:\\n\\tBaudrate: {0}\\n\\tParity Bits: {1}\\n\\tByte size: {2}\\n\\tStop bits: {3}:\\n\\tTimeout: {4}'.\n",
    "      format(ser.baudrate, ser.parity, ser.bytesize, ser.stopbits, ser.timeout))\n",
    "ser.open()\n",
    "\n",
    "print(\"Is serial port open?\", ser.is_open)"
   ]
  },
  {
   "cell_type": "code",
   "execution_count": 4,
   "metadata": {},
   "outputs": [
    {
     "name": "stdout",
     "output_type": "stream",
     "text": [
      "0 \t 100.0 \t 24.393118\n",
      "1 \t 202.0 \t 24.883236\n",
      "2 \t 304.0 \t 24.902086\n",
      "3 \t 406.0 \t 24.864386\n",
      "4 \t 508.0 \t 24.902086\n",
      "5 \t 610.0 \t 24.883236\n",
      "6 \t 712.0 \t 24.920937\n",
      "7 \t 814.0 \t 24.958639\n",
      "8 \t 916.0 \t 24.939789\n",
      "9 \t 1018.0 \t 24.958639\n",
      "10 \t 1120.0 \t 24.883236\n",
      "11 \t 1222.0 \t 24.958639\n",
      "12 \t 1324.0 \t 24.939789\n",
      "13 \t 1426.0 \t 24.939789\n",
      "14 \t 1528.0 \t 24.939789\n",
      "15 \t 1630.0 \t 24.939789\n",
      "16 \t 1732.0 \t 24.958639\n",
      "17 \t 1834.0 \t 24.977489\n",
      "18 \t 1936.0 \t 24.977489\n",
      "19 \t 2038.0 \t 24.977489\n",
      "20 \t 2140.0 \t 24.958639\n",
      "21 \t 2242.0 \t 24.939789\n",
      "22 \t 2344.0 \t 24.939789\n",
      "23 \t 2446.0 \t 24.958639\n",
      "24 \t 2548.0 \t 24.99634\n",
      "25 \t 2650.0 \t 24.958639\n",
      "26 \t 2752.0 \t 24.977489\n",
      "27 \t 2854.0 \t 24.977489\n",
      "28 \t 2956.0 \t 24.977489\n",
      "29 \t 3058.0 \t 24.958639\n",
      "30 \t 3160.0 \t 24.99634\n",
      "31 \t 3262.0 \t 24.977489\n",
      "32 \t 3364.0 \t 24.99634\n",
      "33 \t 3466.0 \t 25.01519\n",
      "34 \t 3568.0 \t 24.977489\n",
      "35 \t 3670.0 \t 24.99634\n",
      "36 \t 3772.0 \t 25.01519\n",
      "37 \t 3874.0 \t 24.99634\n",
      "38 \t 3976.0 \t 25.01519\n",
      "39 \t 4078.0 \t 24.99634\n",
      "40 \t 4180.0 \t 25.03404\n",
      "41 \t 4282.0 \t 25.03404\n",
      "42 \t 4384.0 \t 25.01519\n",
      "43 \t 4486.0 \t 25.03404\n",
      "44 \t 4588.0 \t 25.01519\n",
      "45 \t 4690.0 \t 25.01519\n",
      "46 \t 4792.0 \t 25.03404\n",
      "47 \t 4894.0 \t 25.01519\n",
      "48 \t 4996.0 \t 25.052893\n",
      "49 \t 5098.0 \t 25.03404\n",
      "50 \t 5200.0 \t 25.052893\n",
      "51 \t 5302.0 \t 25.052893\n",
      "52 \t 5404.0 \t 24.99634\n",
      "53 \t 5506.0 \t 24.99634\n",
      "54 \t 5608.0 \t 25.03404\n",
      "55 \t 5710.0 \t 25.052893\n",
      "56 \t 5812.0 \t 25.052893\n",
      "57 \t 5914.0 \t 25.03404\n",
      "58 \t 6016.0 \t 25.03404\n",
      "59 \t 6118.0 \t 25.052893\n",
      "60 \t 6220.0 \t 25.01519\n",
      "61 \t 6322.0 \t 25.052893\n",
      "62 \t 6424.0 \t 25.052893\n",
      "63 \t 6526.0 \t 25.03404\n",
      "64 \t 6628.0 \t 25.052893\n",
      "65 \t 6730.0 \t 25.071743\n",
      "66 \t 6832.0 \t 25.071743\n",
      "67 \t 6934.0 \t 25.03404\n",
      "68 \t 7036.0 \t 24.99634\n",
      "69 \t 7138.0 \t 25.052893\n",
      "70 \t 7240.0 \t 25.052893\n",
      "71 \t 7342.0 \t 25.090593\n",
      "72 \t 7444.0 \t 25.071743\n",
      "73 \t 7546.0 \t 25.052893\n",
      "74 \t 7648.0 \t 25.071743\n",
      "75 \t 7750.0 \t 25.052893\n",
      "76 \t 7852.0 \t 25.071743\n",
      "77 \t 7954.0 \t 25.03404\n",
      "78 \t 8056.0 \t 25.090593\n",
      "79 \t 8158.0 \t 25.03404\n",
      "80 \t 8260.0 \t 25.01519\n",
      "81 \t 8362.0 \t 25.03404\n",
      "82 \t 8464.0 \t 25.01519\n",
      "83 \t 8566.0 \t 25.071743\n",
      "84 \t 8668.0 \t 25.071743\n",
      "85 \t 8770.0 \t 25.052893\n",
      "86 \t 8872.0 \t 25.071743\n",
      "87 \t 8974.0 \t 25.03404\n",
      "88 \t 9076.0 \t 25.071743\n",
      "89 \t 9178.0 \t 25.071743\n",
      "90 \t 9280.0 \t 25.071743\n",
      "91 \t 9382.0 \t 25.109444\n",
      "92 \t 9484.0 \t 25.071743\n",
      "93 \t 9586.0 \t 25.052893\n",
      "94 \t 9688.0 \t 25.071743\n",
      "95 \t 9790.0 \t 25.071743\n",
      "96 \t 9892.0 \t 25.090593\n",
      "97 \t 9994.0 \t 25.052893\n",
      "98 \t 10096.0 \t 25.071743\n",
      "99 \t 10198.0 \t 25.090593\n",
      "\n",
      "Terminou a série de dados.\n",
      "Ler nova série [S/N]:N\n",
      "Conexão fechada\n"
     ]
    }
   ],
   "source": [
    "if not ser.is_open:\n",
    "    ser.open()\n",
    "\n",
    "count = 0\n",
    "timeStamp = []  # lista com a etiqueta de tempo\n",
    "data = []       # lista com as leituras do sensor\n",
    "\n",
    "while True:\n",
    "    s = str(ser.readline())\n",
    "    \n",
    "    val = s[2:-5]\n",
    "    \n",
    "    if ( val == \"end\" ):\n",
    "        print(\"\\nTerminou a série de dados.\")\n",
    "        s = input('Ler nova série [S/N]:').upper()\n",
    "        count = 0\n",
    "        \n",
    "        if s == 'N':\n",
    "            ser.close()\n",
    "            print('Conexão fechada')\n",
    "            break\n",
    "    else:\n",
    "        sep = val.find(\",\")\n",
    "        timeStamp.append(float(val[:sep]))\n",
    "        data.append(float(val[sep+1:]))\n",
    "        \n",
    "        print(count,\"\\t\", timeStamp[count], \"\\t\", data[count])\n",
    "        count += 1\n",
    "          \n",
    "\n",
    "\n",
    "\n",
    "\n"
   ]
  },
  {
   "cell_type": "markdown",
   "metadata": {},
   "source": [
    "### Visualização gráfica dos dados"
   ]
  },
  {
   "cell_type": "code",
   "execution_count": 5,
   "metadata": {},
   "outputs": [],
   "source": [
    "import matplotlib.pyplot as plt\n",
    "import numpy as np"
   ]
  },
  {
   "cell_type": "code",
   "execution_count": 6,
   "metadata": {},
   "outputs": [],
   "source": [
    "t = np.array(timeStamp)\n",
    "x = np.array(data)\n",
    "value = np.max(data)\n",
    "value2 = np.min(data)\n",
    "value3 = np.mean(data)\n",
    "value4 = np.std(data) "
   ]
  },
  {
   "cell_type": "code",
   "execution_count": 7,
   "metadata": {},
   "outputs": [
    {
     "name": "stdout",
     "output_type": "stream",
     "text": [
      "Máximo:  25.109444\n",
      "Minimo:  24.393118\n",
      "Média:  25.00689637\n",
      "Desvio padrão 0.08226846391451045\n"
     ]
    },
    {
     "data": {
      "image/png": "[encoded data removed]",
      "text/plain": [
       "<Figure size 432x288 with 1 Axes>"
      ]
     },
     "metadata": {
      "needs_background": "light"
     },
     "output_type": "display_data"
    }
   ],
   "source": [
    "plt.title('Tarefa 6')\n",
    "plt.xlabel('t (s)')\n",
    "plt.ylabel('x')\n",
    "plt.plot(t/100, x, marker='.', linestyle='-', color='orange')\n",
    "plt.axhline(value, marker='.', linestyle='-', color='#4b0082')\n",
    "plt.axhline(value2, marker='.', linestyle='-', color='red')\n",
    "plt.axhline(value3, marker='.', linestyle='-', color='yellow')\n",
    "plt.legend([\"temperatura\", \"maximo\", \"Minimo\", \"Avg\", \"Desvio-Padrao\"] , loc='best', bbox_to_anchor=(0.5, 0., 0.5, 0.5))\n",
    "print(\"Máximo: \",value)\n",
    "print(\"Minimo: \",value2)\n",
    "print(\"Média: \",value3)\n",
    "print(\"Desvio padrão\",value4)\n"
   ]
  },
  {
   "cell_type": "code",
   "execution_count": null,
   "metadata": {},
   "outputs": [],
   "source": []
  },
  {
   "cell_type": "code",
   "execution_count": null,
   "metadata": {},
   "outputs": [],
   "source": []
  }
 ],
 "metadata": {
  "kernelspec": {
   "display_name": "Python 3 (ipykernel)",
   "language": "python",
   "name": "python3"
  },
  "language_info": {
   "codemirror_mode": {
    "name": "ipython",
    "version": 3
   },
   "file_extension": ".py",
   "mimetype": "text/x-python",
   "name": "python",
   "nbconvert_exporter": "python",
   "pygments_lexer": "ipython3",
   "version": "3.9.7"
  }
 },
 "nbformat": 4,
 "nbformat_minor": 2
}
